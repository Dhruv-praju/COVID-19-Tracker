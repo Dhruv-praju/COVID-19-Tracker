{
 "cells": [
  {
   "cell_type": "markdown",
   "id": "94526fff-65d4-480a-a8ca-86aa4e317bd5",
   "metadata": {},
   "source": [
    "# World COVID-19 vaccination analysis\n",
    "---"
   ]
  },
  {
   "cell_type": "markdown",
   "id": "1b0c04c0-a688-4626-9be5-31dcfd68dba4",
   "metadata": {},
   "source": [
    "![](https://www.iru.org/sites/default/files/styles/desktop_2x_736x460/public/2020-03/Alarming%20gap%20in%20global%20response%20to%20COVID-19.jpg?h=22393765&itok=3OCThDvW)"
   ]
  },
  {
   "cell_type": "markdown",
   "id": "f3fe1a39-39f2-497c-9eec-ba55a0041373",
   "metadata": {},
   "source": [
    "### **About**"
   ]
  },
  {
   "cell_type": "markdown",
   "id": "7b825d5b-b4c5-4826-a66e-72878f028f4a",
   "metadata": {},
   "source": [
    "This notebook contains exploratory analysis of currently ongoing vaccination around the world. It contains analysis along with visualizations and explaination. The notebook explores vaccination progress made by each country.\n",
    "\n",
    "Some questions answered by this notebook:\n",
    "+   Which countries have vaccinated the most number of people?\n",
    "+   What countries have vaccinated maximum of its population?\n",
    "+   After begining of the vaccine program all around the world, how infection trend moves?\n",
    "+   What vaccines are used, and by which countries ?\n",
    "+   Have vaccination proven to be effective to tackle with the COVID-19 pandemic?"
   ]
  },
  {
   "cell_type": "markdown",
   "id": "8d611d5b-8e38-4629-ae6d-051a9c7079bc",
   "metadata": {},
   "source": [
    "### **Introduction**"
   ]
  },
  {
   "cell_type": "markdown",
   "id": "e92d5466-c0e8-4321-b862-4a32e1a90be3",
   "metadata": {},
   "source": [
    "The **COVID-19** Acronym of **Coronavirus disease 2019** is currently ongoing pandemic caused by **severe acute respiratory syndrome coronavirus 2 (SARS-CoV-2)**.It was first Identified in December 2019 in Wuhan China."
   ]
  },
  {
   "cell_type": "markdown",
   "id": "89cf9e14-d7d5-4226-8093-203e503f957f",
   "metadata": {},
   "source": [
    "The Covid pandemic has disrupted millions of lives across the globe. While some have been lucky to win the battle against the virus, several others have faced devastating consequences. Humanity is struggling against the global pandemic. Fight with the pandemic continues with the weapons like vaccination which\n",
    "are developed by various countries around the world"
   ]
  },
  {
   "cell_type": "code",
   "execution_count": 1,
   "id": "technological-musician",
   "metadata": {},
   "outputs": [],
   "source": [
    "import pandas as pd\n",
    "import numpy as np\n",
    "from matplotlib import pyplot as plt"
   ]
  },
  {
   "cell_type": "code",
   "execution_count": 2,
   "id": "adjustable-gabriel",
   "metadata": {},
   "outputs": [],
   "source": [
    "vac_data = pd.read_csv('cleaned_vaccinations.csv')"
   ]
  },
  {
   "cell_type": "code",
   "execution_count": 3,
   "id": "failing-found",
   "metadata": {},
   "outputs": [],
   "source": [
    "pd.set_option('display.max_rows', 10)"
   ]
  },
  {
   "cell_type": "code",
   "execution_count": 4,
   "id": "suburban-philip",
   "metadata": {
    "scrolled": true,
    "tags": []
   },
   "outputs": [
    {
     "data": {
      "text/html": [
       "<div>\n",
       "<style scoped>\n",
       "    .dataframe tbody tr th:only-of-type {\n",
       "        vertical-align: middle;\n",
       "    }\n",
       "\n",
       "    .dataframe tbody tr th {\n",
       "        vertical-align: top;\n",
       "    }\n",
       "\n",
       "    .dataframe thead th {\n",
       "        text-align: right;\n",
       "    }\n",
       "</style>\n",
       "<table border=\"1\" class=\"dataframe\">\n",
       "  <thead>\n",
       "    <tr style=\"text-align: right;\">\n",
       "      <th></th>\n",
       "      <th>country</th>\n",
       "      <th>date</th>\n",
       "      <th>total_vaccinations</th>\n",
       "      <th>people_vaccinated</th>\n",
       "      <th>people_fully_vaccinated</th>\n",
       "      <th>daily_vaccinations</th>\n",
       "      <th>daily_vaccinations_avg</th>\n",
       "      <th>total_vaccinations_per_hundred</th>\n",
       "      <th>people_vaccinated_per_hundred</th>\n",
       "      <th>people_fully_vaccinated_per_hundred</th>\n",
       "    </tr>\n",
       "  </thead>\n",
       "  <tbody>\n",
       "    <tr>\n",
       "      <th>0</th>\n",
       "      <td>Afghanistan</td>\n",
       "      <td>2021-02-22</td>\n",
       "      <td>0</td>\n",
       "      <td>0</td>\n",
       "      <td>0</td>\n",
       "      <td>0</td>\n",
       "      <td>0</td>\n",
       "      <td>0.00</td>\n",
       "      <td>0.00</td>\n",
       "      <td>0.0</td>\n",
       "    </tr>\n",
       "    <tr>\n",
       "      <th>1</th>\n",
       "      <td>Afghanistan</td>\n",
       "      <td>2021-02-23</td>\n",
       "      <td>0</td>\n",
       "      <td>0</td>\n",
       "      <td>0</td>\n",
       "      <td>0</td>\n",
       "      <td>1367</td>\n",
       "      <td>0.00</td>\n",
       "      <td>0.00</td>\n",
       "      <td>0.0</td>\n",
       "    </tr>\n",
       "    <tr>\n",
       "      <th>2</th>\n",
       "      <td>Afghanistan</td>\n",
       "      <td>2021-02-24</td>\n",
       "      <td>0</td>\n",
       "      <td>0</td>\n",
       "      <td>0</td>\n",
       "      <td>0</td>\n",
       "      <td>1367</td>\n",
       "      <td>0.00</td>\n",
       "      <td>0.00</td>\n",
       "      <td>0.0</td>\n",
       "    </tr>\n",
       "    <tr>\n",
       "      <th>3</th>\n",
       "      <td>Afghanistan</td>\n",
       "      <td>2021-02-25</td>\n",
       "      <td>0</td>\n",
       "      <td>0</td>\n",
       "      <td>0</td>\n",
       "      <td>0</td>\n",
       "      <td>1367</td>\n",
       "      <td>0.00</td>\n",
       "      <td>0.00</td>\n",
       "      <td>0.0</td>\n",
       "    </tr>\n",
       "    <tr>\n",
       "      <th>4</th>\n",
       "      <td>Afghanistan</td>\n",
       "      <td>2021-02-26</td>\n",
       "      <td>0</td>\n",
       "      <td>0</td>\n",
       "      <td>0</td>\n",
       "      <td>0</td>\n",
       "      <td>1367</td>\n",
       "      <td>0.00</td>\n",
       "      <td>0.00</td>\n",
       "      <td>0.0</td>\n",
       "    </tr>\n",
       "    <tr>\n",
       "      <th>...</th>\n",
       "      <td>...</td>\n",
       "      <td>...</td>\n",
       "      <td>...</td>\n",
       "      <td>...</td>\n",
       "      <td>...</td>\n",
       "      <td>...</td>\n",
       "      <td>...</td>\n",
       "      <td>...</td>\n",
       "      <td>...</td>\n",
       "      <td>...</td>\n",
       "    </tr>\n",
       "    <tr>\n",
       "      <th>995</th>\n",
       "      <td>Australia</td>\n",
       "      <td>2021-02-19</td>\n",
       "      <td>0</td>\n",
       "      <td>0</td>\n",
       "      <td>0</td>\n",
       "      <td>0</td>\n",
       "      <td>0</td>\n",
       "      <td>0.00</td>\n",
       "      <td>0.00</td>\n",
       "      <td>0.0</td>\n",
       "    </tr>\n",
       "    <tr>\n",
       "      <th>996</th>\n",
       "      <td>Australia</td>\n",
       "      <td>2021-02-20</td>\n",
       "      <td>0</td>\n",
       "      <td>0</td>\n",
       "      <td>0</td>\n",
       "      <td>0</td>\n",
       "      <td>0</td>\n",
       "      <td>0.00</td>\n",
       "      <td>0.00</td>\n",
       "      <td>0.0</td>\n",
       "    </tr>\n",
       "    <tr>\n",
       "      <th>997</th>\n",
       "      <td>Australia</td>\n",
       "      <td>2021-02-21</td>\n",
       "      <td>0</td>\n",
       "      <td>0</td>\n",
       "      <td>0</td>\n",
       "      <td>0</td>\n",
       "      <td>0</td>\n",
       "      <td>0.00</td>\n",
       "      <td>0.00</td>\n",
       "      <td>0.0</td>\n",
       "    </tr>\n",
       "    <tr>\n",
       "      <th>998</th>\n",
       "      <td>Australia</td>\n",
       "      <td>2021-02-22</td>\n",
       "      <td>20</td>\n",
       "      <td>20</td>\n",
       "      <td>0</td>\n",
       "      <td>20</td>\n",
       "      <td>3</td>\n",
       "      <td>0.00</td>\n",
       "      <td>0.00</td>\n",
       "      <td>0.0</td>\n",
       "    </tr>\n",
       "    <tr>\n",
       "      <th>999</th>\n",
       "      <td>Australia</td>\n",
       "      <td>2021-02-23</td>\n",
       "      <td>2879</td>\n",
       "      <td>2879</td>\n",
       "      <td>0</td>\n",
       "      <td>2859</td>\n",
       "      <td>411</td>\n",
       "      <td>0.01</td>\n",
       "      <td>0.01</td>\n",
       "      <td>0.0</td>\n",
       "    </tr>\n",
       "  </tbody>\n",
       "</table>\n",
       "<p>1000 rows × 10 columns</p>\n",
       "</div>"
      ],
      "text/plain": [
       "         country        date  total_vaccinations  people_vaccinated  \\\n",
       "0    Afghanistan  2021-02-22                   0                  0   \n",
       "1    Afghanistan  2021-02-23                   0                  0   \n",
       "2    Afghanistan  2021-02-24                   0                  0   \n",
       "3    Afghanistan  2021-02-25                   0                  0   \n",
       "4    Afghanistan  2021-02-26                   0                  0   \n",
       "..           ...         ...                 ...                ...   \n",
       "995    Australia  2021-02-19                   0                  0   \n",
       "996    Australia  2021-02-20                   0                  0   \n",
       "997    Australia  2021-02-21                   0                  0   \n",
       "998    Australia  2021-02-22                  20                 20   \n",
       "999    Australia  2021-02-23                2879               2879   \n",
       "\n",
       "     people_fully_vaccinated  daily_vaccinations  daily_vaccinations_avg  \\\n",
       "0                          0                   0                       0   \n",
       "1                          0                   0                    1367   \n",
       "2                          0                   0                    1367   \n",
       "3                          0                   0                    1367   \n",
       "4                          0                   0                    1367   \n",
       "..                       ...                 ...                     ...   \n",
       "995                        0                   0                       0   \n",
       "996                        0                   0                       0   \n",
       "997                        0                   0                       0   \n",
       "998                        0                  20                       3   \n",
       "999                        0                2859                     411   \n",
       "\n",
       "     total_vaccinations_per_hundred  people_vaccinated_per_hundred  \\\n",
       "0                              0.00                           0.00   \n",
       "1                              0.00                           0.00   \n",
       "2                              0.00                           0.00   \n",
       "3                              0.00                           0.00   \n",
       "4                              0.00                           0.00   \n",
       "..                              ...                            ...   \n",
       "995                            0.00                           0.00   \n",
       "996                            0.00                           0.00   \n",
       "997                            0.00                           0.00   \n",
       "998                            0.00                           0.00   \n",
       "999                            0.01                           0.01   \n",
       "\n",
       "     people_fully_vaccinated_per_hundred  \n",
       "0                                    0.0  \n",
       "1                                    0.0  \n",
       "2                                    0.0  \n",
       "3                                    0.0  \n",
       "4                                    0.0  \n",
       "..                                   ...  \n",
       "995                                  0.0  \n",
       "996                                  0.0  \n",
       "997                                  0.0  \n",
       "998                                  0.0  \n",
       "999                                  0.0  \n",
       "\n",
       "[1000 rows x 10 columns]"
      ]
     },
     "execution_count": 4,
     "metadata": {},
     "output_type": "execute_result"
    }
   ],
   "source": [
    "vac_data.head(1000)"
   ]
  },
  {
   "cell_type": "code",
   "execution_count": 5,
   "id": "interracial-talent",
   "metadata": {},
   "outputs": [
    {
     "data": {
      "text/plain": [
       "country                                 object\n",
       "date                                    object\n",
       "total_vaccinations                       int64\n",
       "people_vaccinated                        int64\n",
       "people_fully_vaccinated                  int64\n",
       "daily_vaccinations                       int64\n",
       "daily_vaccinations_avg                   int64\n",
       "total_vaccinations_per_hundred         float64\n",
       "people_vaccinated_per_hundred          float64\n",
       "people_fully_vaccinated_per_hundred    float64\n",
       "dtype: object"
      ]
     },
     "execution_count": 5,
     "metadata": {},
     "output_type": "execute_result"
    }
   ],
   "source": [
    "vac_data.dtypes"
   ]
  },
  {
   "cell_type": "code",
   "execution_count": 6,
   "id": "peaceful-arnold",
   "metadata": {},
   "outputs": [],
   "source": [
    "vac_data['date'] = pd.to_datetime(vac_data['date'], format='%Y-%m-%d')"
   ]
  },
  {
   "cell_type": "code",
   "execution_count": 7,
   "id": "hybrid-europe",
   "metadata": {},
   "outputs": [
    {
     "data": {
      "text/plain": [
       "country                                        object\n",
       "date                                   datetime64[ns]\n",
       "total_vaccinations                              int64\n",
       "people_vaccinated                               int64\n",
       "people_fully_vaccinated                         int64\n",
       "daily_vaccinations                              int64\n",
       "daily_vaccinations_avg                          int64\n",
       "total_vaccinations_per_hundred                float64\n",
       "people_vaccinated_per_hundred                 float64\n",
       "people_fully_vaccinated_per_hundred           float64\n",
       "dtype: object"
      ]
     },
     "execution_count": 7,
     "metadata": {},
     "output_type": "execute_result"
    }
   ],
   "source": [
    "vac_data.dtypes"
   ]
  },
  {
   "cell_type": "markdown",
   "id": "multiple-duration",
   "metadata": {},
   "source": [
    "# 2) Data Visualization"
   ]
  },
  {
   "cell_type": "code",
   "execution_count": 8,
   "id": "falling-oracle",
   "metadata": {},
   "outputs": [
    {
     "data": {
      "text/html": [
       "<div>\n",
       "<style scoped>\n",
       "    .dataframe tbody tr th:only-of-type {\n",
       "        vertical-align: middle;\n",
       "    }\n",
       "\n",
       "    .dataframe tbody tr th {\n",
       "        vertical-align: top;\n",
       "    }\n",
       "\n",
       "    .dataframe thead th {\n",
       "        text-align: right;\n",
       "    }\n",
       "</style>\n",
       "<table border=\"1\" class=\"dataframe\">\n",
       "  <thead>\n",
       "    <tr style=\"text-align: right;\">\n",
       "      <th></th>\n",
       "      <th>country</th>\n",
       "      <th>date</th>\n",
       "      <th>total_vaccinations</th>\n",
       "      <th>people_vaccinated</th>\n",
       "      <th>people_fully_vaccinated</th>\n",
       "      <th>daily_vaccinations</th>\n",
       "      <th>daily_vaccinations_avg</th>\n",
       "      <th>total_vaccinations_per_hundred</th>\n",
       "      <th>people_vaccinated_per_hundred</th>\n",
       "      <th>people_fully_vaccinated_per_hundred</th>\n",
       "    </tr>\n",
       "  </thead>\n",
       "  <tbody>\n",
       "  </tbody>\n",
       "</table>\n",
       "</div>"
      ],
      "text/plain": [
       "Empty DataFrame\n",
       "Columns: [country, date, total_vaccinations, people_vaccinated, people_fully_vaccinated, daily_vaccinations, daily_vaccinations_avg, total_vaccinations_per_hundred, people_vaccinated_per_hundred, people_fully_vaccinated_per_hundred]\n",
       "Index: []"
      ]
     },
     "execution_count": 8,
     "metadata": {},
     "output_type": "execute_result"
    }
   ],
   "source": [
    "plt.style.use('seaborn')\n",
    "filt = vac_data.country=='Gibralter'\n",
    "vac_data.loc[filt]"
   ]
  },
  {
   "cell_type": "markdown",
   "id": "disturbed-yugoslavia",
   "metadata": {},
   "source": [
    "    Countrywise data"
   ]
  },
  {
   "cell_type": "code",
   "execution_count": 9,
   "id": "living-princess",
   "metadata": {},
   "outputs": [],
   "source": [
    "country_grp = vac_data.groupby(['country'])"
   ]
  },
  {
   "cell_type": "code",
   "execution_count": 10,
   "id": "exterior-bryan",
   "metadata": {},
   "outputs": [
    {
     "data": {
      "text/plain": [
       "<pandas.core.groupby.generic.SeriesGroupBy object at 0x7f5f2fe25e48>"
      ]
     },
     "execution_count": 10,
     "metadata": {},
     "output_type": "execute_result"
    }
   ],
   "source": [
    "country_grp['total_vaccinations']"
   ]
  },
  {
   "cell_type": "code",
   "execution_count": 11,
   "id": "smoking-definition",
   "metadata": {},
   "outputs": [],
   "source": [
    "con_wise_df = country_grp.agg({'total_vaccinations': 'max',\n",
    "                 'people_vaccinated':'max',\n",
    "                 'people_fully_vaccinated':'max',\n",
    "                 'daily_vaccinations_avg':'median',\n",
    "                 'people_vaccinated_per_hundred':'max',\n",
    "                'people_fully_vaccinated_per_hundred':'max'})"
   ]
  },
  {
   "cell_type": "code",
   "execution_count": 12,
   "id": "political-continuity",
   "metadata": {
    "scrolled": true,
    "slideshow": {
     "slide_type": "slide"
    },
    "tags": []
   },
   "outputs": [
    {
     "data": {
      "text/html": [
       "<div>\n",
       "<style scoped>\n",
       "    .dataframe tbody tr th:only-of-type {\n",
       "        vertical-align: middle;\n",
       "    }\n",
       "\n",
       "    .dataframe tbody tr th {\n",
       "        vertical-align: top;\n",
       "    }\n",
       "\n",
       "    .dataframe thead th {\n",
       "        text-align: right;\n",
       "    }\n",
       "</style>\n",
       "<table border=\"1\" class=\"dataframe\">\n",
       "  <thead>\n",
       "    <tr style=\"text-align: right;\">\n",
       "      <th></th>\n",
       "      <th>total_vaccinations</th>\n",
       "      <th>people_vaccinated</th>\n",
       "      <th>people_fully_vaccinated</th>\n",
       "      <th>daily_vaccinations_avg</th>\n",
       "      <th>people_vaccinated_per_hundred</th>\n",
       "      <th>people_fully_vaccinated_per_hundred</th>\n",
       "    </tr>\n",
       "    <tr>\n",
       "      <th>country</th>\n",
       "      <th></th>\n",
       "      <th></th>\n",
       "      <th></th>\n",
       "      <th></th>\n",
       "      <th></th>\n",
       "      <th></th>\n",
       "    </tr>\n",
       "  </thead>\n",
       "  <tbody>\n",
       "    <tr>\n",
       "      <th>Afghanistan</th>\n",
       "      <td>626290</td>\n",
       "      <td>481690</td>\n",
       "      <td>144600</td>\n",
       "      <td>4822.0</td>\n",
       "      <td>1.24</td>\n",
       "      <td>0.37</td>\n",
       "    </tr>\n",
       "    <tr>\n",
       "      <th>Albania</th>\n",
       "      <td>787321</td>\n",
       "      <td>490050</td>\n",
       "      <td>606886</td>\n",
       "      <td>2895.0</td>\n",
       "      <td>17.03</td>\n",
       "      <td>21.09</td>\n",
       "    </tr>\n",
       "    <tr>\n",
       "      <th>Algeria</th>\n",
       "      <td>75000</td>\n",
       "      <td>75000</td>\n",
       "      <td>0</td>\n",
       "      <td>3748.0</td>\n",
       "      <td>0.17</td>\n",
       "      <td>0.00</td>\n",
       "    </tr>\n",
       "    <tr>\n",
       "      <th>Andorra</th>\n",
       "      <td>35916</td>\n",
       "      <td>27613</td>\n",
       "      <td>9283</td>\n",
       "      <td>197.0</td>\n",
       "      <td>35.74</td>\n",
       "      <td>12.01</td>\n",
       "    </tr>\n",
       "    <tr>\n",
       "      <th>Angola</th>\n",
       "      <td>909215</td>\n",
       "      <td>679034</td>\n",
       "      <td>230181</td>\n",
       "      <td>8959.0</td>\n",
       "      <td>2.07</td>\n",
       "      <td>0.70</td>\n",
       "    </tr>\n",
       "    <tr>\n",
       "      <th>...</th>\n",
       "      <td>...</td>\n",
       "      <td>...</td>\n",
       "      <td>...</td>\n",
       "      <td>...</td>\n",
       "      <td>...</td>\n",
       "      <td>...</td>\n",
       "    </tr>\n",
       "    <tr>\n",
       "      <th>Vietnam</th>\n",
       "      <td>1156056</td>\n",
       "      <td>1124505</td>\n",
       "      <td>71477</td>\n",
       "      <td>3675.0</td>\n",
       "      <td>1.16</td>\n",
       "      <td>0.08</td>\n",
       "    </tr>\n",
       "    <tr>\n",
       "      <th>Wallis and Futuna</th>\n",
       "      <td>8365</td>\n",
       "      <td>4374</td>\n",
       "      <td>3991</td>\n",
       "      <td>77.0</td>\n",
       "      <td>38.89</td>\n",
       "      <td>35.49</td>\n",
       "    </tr>\n",
       "    <tr>\n",
       "      <th>Yemen</th>\n",
       "      <td>104070</td>\n",
       "      <td>104070</td>\n",
       "      <td>0</td>\n",
       "      <td>4276.0</td>\n",
       "      <td>0.35</td>\n",
       "      <td>0.00</td>\n",
       "    </tr>\n",
       "    <tr>\n",
       "      <th>Zambia</th>\n",
       "      <td>147115</td>\n",
       "      <td>141829</td>\n",
       "      <td>5286</td>\n",
       "      <td>3504.0</td>\n",
       "      <td>0.77</td>\n",
       "      <td>0.03</td>\n",
       "    </tr>\n",
       "    <tr>\n",
       "      <th>Zimbabwe</th>\n",
       "      <td>1048504</td>\n",
       "      <td>684164</td>\n",
       "      <td>364340</td>\n",
       "      <td>10958.5</td>\n",
       "      <td>4.60</td>\n",
       "      <td>2.45</td>\n",
       "    </tr>\n",
       "  </tbody>\n",
       "</table>\n",
       "<p>211 rows × 6 columns</p>\n",
       "</div>"
      ],
      "text/plain": [
       "                   total_vaccinations  people_vaccinated  \\\n",
       "country                                                    \n",
       "Afghanistan                    626290             481690   \n",
       "Albania                        787321             490050   \n",
       "Algeria                         75000              75000   \n",
       "Andorra                         35916              27613   \n",
       "Angola                         909215             679034   \n",
       "...                               ...                ...   \n",
       "Vietnam                       1156056            1124505   \n",
       "Wallis and Futuna                8365               4374   \n",
       "Yemen                          104070             104070   \n",
       "Zambia                         147115             141829   \n",
       "Zimbabwe                      1048504             684164   \n",
       "\n",
       "                   people_fully_vaccinated  daily_vaccinations_avg  \\\n",
       "country                                                              \n",
       "Afghanistan                         144600                  4822.0   \n",
       "Albania                             606886                  2895.0   \n",
       "Algeria                                  0                  3748.0   \n",
       "Andorra                               9283                   197.0   \n",
       "Angola                              230181                  8959.0   \n",
       "...                                    ...                     ...   \n",
       "Vietnam                              71477                  3675.0   \n",
       "Wallis and Futuna                     3991                    77.0   \n",
       "Yemen                                    0                  4276.0   \n",
       "Zambia                                5286                  3504.0   \n",
       "Zimbabwe                            364340                 10958.5   \n",
       "\n",
       "                   people_vaccinated_per_hundred  \\\n",
       "country                                            \n",
       "Afghanistan                                 1.24   \n",
       "Albania                                    17.03   \n",
       "Algeria                                     0.17   \n",
       "Andorra                                    35.74   \n",
       "Angola                                      2.07   \n",
       "...                                          ...   \n",
       "Vietnam                                     1.16   \n",
       "Wallis and Futuna                          38.89   \n",
       "Yemen                                       0.35   \n",
       "Zambia                                      0.77   \n",
       "Zimbabwe                                    4.60   \n",
       "\n",
       "                   people_fully_vaccinated_per_hundred  \n",
       "country                                                 \n",
       "Afghanistan                                       0.37  \n",
       "Albania                                          21.09  \n",
       "Algeria                                           0.00  \n",
       "Andorra                                          12.01  \n",
       "Angola                                            0.70  \n",
       "...                                                ...  \n",
       "Vietnam                                           0.08  \n",
       "Wallis and Futuna                                35.49  \n",
       "Yemen                                             0.00  \n",
       "Zambia                                            0.03  \n",
       "Zimbabwe                                          2.45  \n",
       "\n",
       "[211 rows x 6 columns]"
      ]
     },
     "execution_count": 12,
     "metadata": {},
     "output_type": "execute_result"
    }
   ],
   "source": [
    "con_wise_df"
   ]
  },
  {
   "cell_type": "code",
   "execution_count": 13,
   "id": "sunrise-gnome",
   "metadata": {
    "scrolled": true,
    "tags": []
   },
   "outputs": [
    {
     "data": {
      "text/html": [
       "<div>\n",
       "<style scoped>\n",
       "    .dataframe tbody tr th:only-of-type {\n",
       "        vertical-align: middle;\n",
       "    }\n",
       "\n",
       "    .dataframe tbody tr th {\n",
       "        vertical-align: top;\n",
       "    }\n",
       "\n",
       "    .dataframe thead th {\n",
       "        text-align: right;\n",
       "    }\n",
       "</style>\n",
       "<table border=\"1\" class=\"dataframe\">\n",
       "  <thead>\n",
       "    <tr style=\"text-align: right;\">\n",
       "      <th></th>\n",
       "      <th>total_vaccinations</th>\n",
       "      <th>people_vaccinated</th>\n",
       "      <th>people_fully_vaccinated</th>\n",
       "      <th>daily_vaccinations_avg</th>\n",
       "      <th>people_vaccinated_per_hundred</th>\n",
       "      <th>people_fully_vaccinated_per_hundred</th>\n",
       "    </tr>\n",
       "    <tr>\n",
       "      <th>country</th>\n",
       "      <th></th>\n",
       "      <th></th>\n",
       "      <th></th>\n",
       "      <th></th>\n",
       "      <th></th>\n",
       "      <th></th>\n",
       "    </tr>\n",
       "  </thead>\n",
       "  <tbody>\n",
       "    <tr>\n",
       "      <th>Afghanistan</th>\n",
       "      <td>626290</td>\n",
       "      <td>481690</td>\n",
       "      <td>144600</td>\n",
       "      <td>4822.0</td>\n",
       "      <td>1.24</td>\n",
       "      <td>0.37</td>\n",
       "    </tr>\n",
       "    <tr>\n",
       "      <th>Albania</th>\n",
       "      <td>787321</td>\n",
       "      <td>490050</td>\n",
       "      <td>606886</td>\n",
       "      <td>2895.0</td>\n",
       "      <td>17.03</td>\n",
       "      <td>21.09</td>\n",
       "    </tr>\n",
       "    <tr>\n",
       "      <th>Algeria</th>\n",
       "      <td>75000</td>\n",
       "      <td>75000</td>\n",
       "      <td>0</td>\n",
       "      <td>3748.0</td>\n",
       "      <td>0.17</td>\n",
       "      <td>0.00</td>\n",
       "    </tr>\n",
       "    <tr>\n",
       "      <th>Andorra</th>\n",
       "      <td>35916</td>\n",
       "      <td>27613</td>\n",
       "      <td>9283</td>\n",
       "      <td>197.0</td>\n",
       "      <td>35.74</td>\n",
       "      <td>12.01</td>\n",
       "    </tr>\n",
       "    <tr>\n",
       "      <th>Angola</th>\n",
       "      <td>909215</td>\n",
       "      <td>679034</td>\n",
       "      <td>230181</td>\n",
       "      <td>8959.0</td>\n",
       "      <td>2.07</td>\n",
       "      <td>0.70</td>\n",
       "    </tr>\n",
       "    <tr>\n",
       "      <th>...</th>\n",
       "      <td>...</td>\n",
       "      <td>...</td>\n",
       "      <td>...</td>\n",
       "      <td>...</td>\n",
       "      <td>...</td>\n",
       "      <td>...</td>\n",
       "    </tr>\n",
       "    <tr>\n",
       "      <th>Vietnam</th>\n",
       "      <td>1156056</td>\n",
       "      <td>1124505</td>\n",
       "      <td>71477</td>\n",
       "      <td>3675.0</td>\n",
       "      <td>1.16</td>\n",
       "      <td>0.08</td>\n",
       "    </tr>\n",
       "    <tr>\n",
       "      <th>Wallis and Futuna</th>\n",
       "      <td>8365</td>\n",
       "      <td>4374</td>\n",
       "      <td>3991</td>\n",
       "      <td>77.0</td>\n",
       "      <td>38.89</td>\n",
       "      <td>35.49</td>\n",
       "    </tr>\n",
       "    <tr>\n",
       "      <th>Yemen</th>\n",
       "      <td>104070</td>\n",
       "      <td>104070</td>\n",
       "      <td>0</td>\n",
       "      <td>4276.0</td>\n",
       "      <td>0.35</td>\n",
       "      <td>0.00</td>\n",
       "    </tr>\n",
       "    <tr>\n",
       "      <th>Zambia</th>\n",
       "      <td>147115</td>\n",
       "      <td>141829</td>\n",
       "      <td>5286</td>\n",
       "      <td>3504.0</td>\n",
       "      <td>0.77</td>\n",
       "      <td>0.03</td>\n",
       "    </tr>\n",
       "    <tr>\n",
       "      <th>Zimbabwe</th>\n",
       "      <td>1048504</td>\n",
       "      <td>684164</td>\n",
       "      <td>364340</td>\n",
       "      <td>10958.5</td>\n",
       "      <td>4.60</td>\n",
       "      <td>2.45</td>\n",
       "    </tr>\n",
       "  </tbody>\n",
       "</table>\n",
       "<p>211 rows × 6 columns</p>\n",
       "</div>"
      ],
      "text/plain": [
       "                   total_vaccinations  people_vaccinated  \\\n",
       "country                                                    \n",
       "Afghanistan                    626290             481690   \n",
       "Albania                        787321             490050   \n",
       "Algeria                         75000              75000   \n",
       "Andorra                         35916              27613   \n",
       "Angola                         909215             679034   \n",
       "...                               ...                ...   \n",
       "Vietnam                       1156056            1124505   \n",
       "Wallis and Futuna                8365               4374   \n",
       "Yemen                          104070             104070   \n",
       "Zambia                         147115             141829   \n",
       "Zimbabwe                      1048504             684164   \n",
       "\n",
       "                   people_fully_vaccinated  daily_vaccinations_avg  \\\n",
       "country                                                              \n",
       "Afghanistan                         144600                  4822.0   \n",
       "Albania                             606886                  2895.0   \n",
       "Algeria                                  0                  3748.0   \n",
       "Andorra                               9283                   197.0   \n",
       "Angola                              230181                  8959.0   \n",
       "...                                    ...                     ...   \n",
       "Vietnam                              71477                  3675.0   \n",
       "Wallis and Futuna                     3991                    77.0   \n",
       "Yemen                                    0                  4276.0   \n",
       "Zambia                                5286                  3504.0   \n",
       "Zimbabwe                            364340                 10958.5   \n",
       "\n",
       "                   people_vaccinated_per_hundred  \\\n",
       "country                                            \n",
       "Afghanistan                                 1.24   \n",
       "Albania                                    17.03   \n",
       "Algeria                                     0.17   \n",
       "Andorra                                    35.74   \n",
       "Angola                                      2.07   \n",
       "...                                          ...   \n",
       "Vietnam                                     1.16   \n",
       "Wallis and Futuna                          38.89   \n",
       "Yemen                                       0.35   \n",
       "Zambia                                      0.77   \n",
       "Zimbabwe                                    4.60   \n",
       "\n",
       "                   people_fully_vaccinated_per_hundred  \n",
       "country                                                 \n",
       "Afghanistan                                       0.37  \n",
       "Albania                                          21.09  \n",
       "Algeria                                           0.00  \n",
       "Andorra                                          12.01  \n",
       "Angola                                            0.70  \n",
       "...                                                ...  \n",
       "Vietnam                                           0.08  \n",
       "Wallis and Futuna                                35.49  \n",
       "Yemen                                             0.00  \n",
       "Zambia                                            0.03  \n",
       "Zimbabwe                                          2.45  \n",
       "\n",
       "[211 rows x 6 columns]"
      ]
     },
     "execution_count": 13,
     "metadata": {},
     "output_type": "execute_result"
    }
   ],
   "source": [
    "con_wise_df"
   ]
  },
  {
   "cell_type": "code",
   "execution_count": 14,
   "id": "hollywood-distance",
   "metadata": {},
   "outputs": [
    {
     "data": {
      "text/plain": [
       "country\n",
       "China                   723486000\n",
       "United States           297720928\n",
       "India                   218344384\n",
       "Brazil                   68919860\n",
       "United Kingdom           66180731\n",
       "                          ...    \n",
       "Chile                    19077745\n",
       "Japan                    14775865\n",
       "Morocco                  14742792\n",
       "Saudi Arabia             14629297\n",
       "United Arab Emirates     13154465\n",
       "Name: total_vaccinations, Length: 20, dtype: int64"
      ]
     },
     "execution_count": 14,
     "metadata": {},
     "output_type": "execute_result"
    }
   ],
   "source": [
    "con_wise_total_vac = con_wise_df['total_vaccinations'].sort_values(ascending=False).head(20)\n",
    "con_wise_total_vac"
   ]
  },
  {
   "cell_type": "code",
   "execution_count": 15,
   "id": "attractive-publication",
   "metadata": {},
   "outputs": [],
   "source": [
    "con_wise_total_vac.sort_values(ascending=True, inplace=True)"
   ]
  },
  {
   "cell_type": "code",
   "execution_count": 16,
   "id": "9479327e-ce2b-4871-8f1f-14e45aa6d65e",
   "metadata": {},
   "outputs": [
    {
     "data": {
      "text/plain": [
       "country\n",
       "China             723486000\n",
       "India             174296917\n",
       "United States     169090262\n",
       "Brazil             46498375\n",
       "United Kingdom     39758428\n",
       "                    ...    \n",
       "Poland             14224874\n",
       "Japan              10991098\n",
       "Chile              10928685\n",
       "Argentina          10158653\n",
       "Morocco             8961585\n",
       "Name: people_vaccinated, Length: 20, dtype: int64"
      ]
     },
     "execution_count": 16,
     "metadata": {},
     "output_type": "execute_result"
    }
   ],
   "source": [
    " con_wise_df['people_vaccinated'].sort_values(ascending=False).head(20)"
   ]
  },
  {
   "cell_type": "code",
   "execution_count": 17,
   "id": "e5e1cd06-bd3d-4876-8b89-b29ac65e9a20",
   "metadata": {},
   "outputs": [],
   "source": [
    "con_wise_people_vac = con_wise_df['people_vaccinated'].sort_values(ascending=False).head(20).sort_values()/10**6"
   ]
  },
  {
   "cell_type": "markdown",
   "id": "american-publication",
   "metadata": {},
   "source": [
    "## What country have vaccinated more people ?"
   ]
  },
  {
   "cell_type": "code",
   "execution_count": 18,
   "id": "broken-matthew",
   "metadata": {},
   "outputs": [
    {
     "data": {
      "image/png": "[encoded data removed]",
      "text/plain": [
       "<Figure size 720x576 with 1 Axes>"
      ]
     },
     "metadata": {},
     "output_type": "display_data"
    }
   ],
   "source": [
    "con_wise_people_vac.plot(kind='barh', figsize=(10,8))\n",
    "\n",
    "# plt.barh(con_wise_total_vac.index, con_wise_total_vac.values)\n",
    "plt.ylabel('Conutry',fontsize=14)\n",
    "plt.xlabel('Count (in Millions)',fontsize=14)\n",
    "plt.yticks(fontsize=13)\n",
    "plt.xticks(fontsize=14)\n",
    "plt.suptitle('People Vaccinated by Country', fontsize=22)\n",
    "\n",
    "plt.savefig('Images/tot_vac.png',bbox_inches='tight', pad_inches=0.2)"
   ]
  },
  {
   "cell_type": "markdown",
   "id": "7138ebc3",
   "metadata": {},
   "source": [
    "**China** has Vaccinated most number of people\n",
    "\n",
    "**USA** and **China** were worst hit by the pandemic and we can see that now they are leading in terms of vaccination administered i.e. people who have atleast received first dose\n",
    "\n",
    "From above bar plot USA, China and India have done mass vaccination"
   ]
  },
  {
   "cell_type": "markdown",
   "id": "e015e7bd-4580-4398-90df-ffbcd472564c",
   "metadata": {},
   "source": [
    "## What share of the population has been partly or fully vaccinated against COVID-19 ?"
   ]
  },
  {
   "cell_type": "code",
   "execution_count": 19,
   "id": "ddb8d0f0-9a2b-48df-a953-3873c6b34265",
   "metadata": {},
   "outputs": [],
   "source": [
    "con_max_pop_vac = con_wise_df.loc[:, ['people_vaccinated_per_hundred', 'people_fully_vaccinated_per_hundred']].sort_values(by='people_vaccinated_per_hundred',ascending=False).head(20)"
   ]
  },
  {
   "cell_type": "code",
   "execution_count": 20,
   "id": "94f65a5d",
   "metadata": {},
   "outputs": [
    {
     "data": {
      "image/png": "[encoded data removed]",
      "text/plain": [
       "<Figure size 720x432 with 1 Axes>"
      ]
     },
     "metadata": {},
     "output_type": "display_data"
    }
   ],
   "source": [
    "con_max_pop_vac.plot(kind='bar', figsize=(10,6), stacked=True)\n",
    "plt.xlabel('Conutry',fontsize=15)\n",
    "plt.ylabel('Percent(%)',fontsize=15)\n",
    "plt.xticks(fontsize=14)\n",
    "plt.yticks(fontsize=14)\n",
    "plt.suptitle('Percent of Population Vaccinated by Country', fontsize=20)\n",
    "plt.legend(['Fully vaccinated','Atleat one dose'],fontsize=12)\n",
    "\n",
    "plt.savefig('Images/per_pop_vac.png', bbox_inches='tight', pad_inches=0.2)"
   ]
  },
  {
   "cell_type": "markdown",
   "id": "cd72685a",
   "metadata": {},
   "source": [
    "From above plot we can see, Although USA has vaccinated much larger people, it has not vaccinated largest percent of population\n",
    "\n",
    "We can say that Gilbratar, Falkland Islands and Isle have almost completely vaccinated their country"
   ]
  },
  {
   "cell_type": "markdown",
   "id": "acute-final",
   "metadata": {},
   "source": [
    "## Which countries have vaccinated more people per day ?"
   ]
  },
  {
   "cell_type": "code",
   "execution_count": 21,
   "id": "5a0bba06",
   "metadata": {},
   "outputs": [],
   "source": [
    "con_wise_daily_vac = con_wise_df['daily_vaccinations_avg'].sort_values(ascending=False).head(20)/10**6"
   ]
  },
  {
   "cell_type": "code",
   "execution_count": 22,
   "id": "697712a6",
   "metadata": {},
   "outputs": [
    {
     "data": {
      "image/png": "[encoded data removed]",
      "text/plain": [
       "<Figure size 720x432 with 1 Axes>"
      ]
     },
     "metadata": {},
     "output_type": "display_data"
    }
   ],
   "source": [
    "con_wise_daily_vac.plot(kind='bar',figsize=(10,6))\n",
    "\n",
    "plt.xlabel('')\n",
    "plt.ylabel('Count (in Million)',fontsize=16)\n",
    "plt.xticks(fontsize=14)\n",
    "plt.yticks(fontsize=13)\n",
    "plt.suptitle('Average Daily Vaccination by Country', fontsize=21)\n",
    "\n",
    "plt.savefig('Images/daily_vac.png', bbox_inches='tight', pad_inches=0.2)"
   ]
  },
  {
   "cell_type": "markdown",
   "id": "e1146a93",
   "metadata": {},
   "source": [
    "We can see that USA, China and India and UK has immunized good amount of people on daily basis. Out of which US has highest numbers"
   ]
  },
  {
   "cell_type": "markdown",
   "id": "3f39a5a0-3dc3-4b1c-a04c-b75ea82aba17",
   "metadata": {},
   "source": [
    "## What vaccines have been used ?"
   ]
  },
  {
   "cell_type": "code",
   "execution_count": 23,
   "id": "7530d28d-c339-4522-a20c-8dcd60688da6",
   "metadata": {},
   "outputs": [],
   "source": [
    "vaccines = pd.read_csv('https://raw.githubusercontent.com/owid/covid-19-data/master/public/data/vaccinations/locations.csv')"
   ]
  },
  {
   "cell_type": "code",
   "execution_count": 24,
   "id": "15d78ab5-7bc3-4eac-acc5-1b7169160f3e",
   "metadata": {},
   "outputs": [],
   "source": [
    "vaccines = vaccines.drop(columns={'iso_code','last_observation_date','source_name','source_website'})"
   ]
  },
  {
   "cell_type": "code",
   "execution_count": 25,
   "id": "c7930769-d120-4ba0-9056-9a4c3bd5cd28",
   "metadata": {},
   "outputs": [],
   "source": [
    "vaccines.rename(columns={'location':'country'}, inplace=True)"
   ]
  },
  {
   "cell_type": "code",
   "execution_count": 26,
   "id": "c9e53cbe-c892-4448-9992-4367daf6d624",
   "metadata": {
    "scrolled": true,
    "tags": []
   },
   "outputs": [
    {
     "data": {
      "text/html": [
       "<div>\n",
       "<style scoped>\n",
       "    .dataframe tbody tr th:only-of-type {\n",
       "        vertical-align: middle;\n",
       "    }\n",
       "\n",
       "    .dataframe tbody tr th {\n",
       "        vertical-align: top;\n",
       "    }\n",
       "\n",
       "    .dataframe thead th {\n",
       "        text-align: right;\n",
       "    }\n",
       "</style>\n",
       "<table border=\"1\" class=\"dataframe\">\n",
       "  <thead>\n",
       "    <tr style=\"text-align: right;\">\n",
       "      <th></th>\n",
       "      <th>country</th>\n",
       "      <th>vaccines</th>\n",
       "    </tr>\n",
       "  </thead>\n",
       "  <tbody>\n",
       "    <tr>\n",
       "      <th>0</th>\n",
       "      <td>Afghanistan</td>\n",
       "      <td>BBIBP-CorV, Oxford/AstraZeneca, Pfizer/BioNTech</td>\n",
       "    </tr>\n",
       "    <tr>\n",
       "      <th>1</th>\n",
       "      <td>Albania</td>\n",
       "      <td>Oxford/AstraZeneca, Pfizer/BioNTech, Sinovac, ...</td>\n",
       "    </tr>\n",
       "    <tr>\n",
       "      <th>2</th>\n",
       "      <td>Algeria</td>\n",
       "      <td>Oxford/AstraZeneca, Sputnik V</td>\n",
       "    </tr>\n",
       "    <tr>\n",
       "      <th>3</th>\n",
       "      <td>Andorra</td>\n",
       "      <td>Oxford/AstraZeneca, Pfizer/BioNTech</td>\n",
       "    </tr>\n",
       "    <tr>\n",
       "      <th>4</th>\n",
       "      <td>Angola</td>\n",
       "      <td>Oxford/AstraZeneca</td>\n",
       "    </tr>\n",
       "    <tr>\n",
       "      <th>...</th>\n",
       "      <td>...</td>\n",
       "      <td>...</td>\n",
       "    </tr>\n",
       "    <tr>\n",
       "      <th>212</th>\n",
       "      <td>Wales</td>\n",
       "      <td>Moderna, Oxford/AstraZeneca, Pfizer/BioNTech</td>\n",
       "    </tr>\n",
       "    <tr>\n",
       "      <th>213</th>\n",
       "      <td>Wallis and Futuna</td>\n",
       "      <td>Oxford/AstraZeneca</td>\n",
       "    </tr>\n",
       "    <tr>\n",
       "      <th>214</th>\n",
       "      <td>Yemen</td>\n",
       "      <td>Oxford/AstraZeneca</td>\n",
       "    </tr>\n",
       "    <tr>\n",
       "      <th>215</th>\n",
       "      <td>Zambia</td>\n",
       "      <td>Oxford/AstraZeneca, Sinopharm/Beijing</td>\n",
       "    </tr>\n",
       "    <tr>\n",
       "      <th>216</th>\n",
       "      <td>Zimbabwe</td>\n",
       "      <td>Sinopharm/Beijing</td>\n",
       "    </tr>\n",
       "  </tbody>\n",
       "</table>\n",
       "<p>217 rows × 2 columns</p>\n",
       "</div>"
      ],
      "text/plain": [
       "               country                                           vaccines\n",
       "0          Afghanistan    BBIBP-CorV, Oxford/AstraZeneca, Pfizer/BioNTech\n",
       "1              Albania  Oxford/AstraZeneca, Pfizer/BioNTech, Sinovac, ...\n",
       "2              Algeria                      Oxford/AstraZeneca, Sputnik V\n",
       "3              Andorra                Oxford/AstraZeneca, Pfizer/BioNTech\n",
       "4               Angola                                 Oxford/AstraZeneca\n",
       "..                 ...                                                ...\n",
       "212              Wales       Moderna, Oxford/AstraZeneca, Pfizer/BioNTech\n",
       "213  Wallis and Futuna                                 Oxford/AstraZeneca\n",
       "214              Yemen                                 Oxford/AstraZeneca\n",
       "215             Zambia              Oxford/AstraZeneca, Sinopharm/Beijing\n",
       "216           Zimbabwe                                  Sinopharm/Beijing\n",
       "\n",
       "[217 rows x 2 columns]"
      ]
     },
     "execution_count": 26,
     "metadata": {},
     "output_type": "execute_result"
    }
   ],
   "source": [
    "vaccines"
   ]
  },
  {
   "cell_type": "code",
   "execution_count": 27,
   "id": "1ec40276-81e5-4cbc-a6e5-7cf2e40bf67b",
   "metadata": {},
   "outputs": [],
   "source": [
    "vaccine_data = pd.merge(left=con_wise_df, right=vaccines, left_on='country', right_on='country')"
   ]
  },
  {
   "cell_type": "code",
   "execution_count": 28,
   "id": "22dbf7c7-c322-4df7-9e78-87f1a0028fe1",
   "metadata": {
    "scrolled": true,
    "tags": []
   },
   "outputs": [
    {
     "data": {
      "text/html": [
       "<div>\n",
       "<style scoped>\n",
       "    .dataframe tbody tr th:only-of-type {\n",
       "        vertical-align: middle;\n",
       "    }\n",
       "\n",
       "    .dataframe tbody tr th {\n",
       "        vertical-align: top;\n",
       "    }\n",
       "\n",
       "    .dataframe thead th {\n",
       "        text-align: right;\n",
       "    }\n",
       "</style>\n",
       "<table border=\"1\" class=\"dataframe\">\n",
       "  <thead>\n",
       "    <tr style=\"text-align: right;\">\n",
       "      <th></th>\n",
       "      <th>country</th>\n",
       "      <th>total_vaccinations</th>\n",
       "      <th>people_vaccinated</th>\n",
       "      <th>people_fully_vaccinated</th>\n",
       "      <th>daily_vaccinations_avg</th>\n",
       "      <th>people_vaccinated_per_hundred</th>\n",
       "      <th>people_fully_vaccinated_per_hundred</th>\n",
       "      <th>vaccines</th>\n",
       "    </tr>\n",
       "  </thead>\n",
       "  <tbody>\n",
       "    <tr>\n",
       "      <th>0</th>\n",
       "      <td>Afghanistan</td>\n",
       "      <td>626290</td>\n",
       "      <td>481690</td>\n",
       "      <td>144600</td>\n",
       "      <td>4822.0</td>\n",
       "      <td>1.24</td>\n",
       "      <td>0.37</td>\n",
       "      <td>BBIBP-CorV, Oxford/AstraZeneca, Pfizer/BioNTech</td>\n",
       "    </tr>\n",
       "    <tr>\n",
       "      <th>1</th>\n",
       "      <td>Albania</td>\n",
       "      <td>787321</td>\n",
       "      <td>490050</td>\n",
       "      <td>606886</td>\n",
       "      <td>2895.0</td>\n",
       "      <td>17.03</td>\n",
       "      <td>21.09</td>\n",
       "      <td>Oxford/AstraZeneca, Pfizer/BioNTech, Sinovac, ...</td>\n",
       "    </tr>\n",
       "    <tr>\n",
       "      <th>2</th>\n",
       "      <td>Algeria</td>\n",
       "      <td>75000</td>\n",
       "      <td>75000</td>\n",
       "      <td>0</td>\n",
       "      <td>3748.0</td>\n",
       "      <td>0.17</td>\n",
       "      <td>0.00</td>\n",
       "      <td>Oxford/AstraZeneca, Sputnik V</td>\n",
       "    </tr>\n",
       "    <tr>\n",
       "      <th>3</th>\n",
       "      <td>Andorra</td>\n",
       "      <td>35916</td>\n",
       "      <td>27613</td>\n",
       "      <td>9283</td>\n",
       "      <td>197.0</td>\n",
       "      <td>35.74</td>\n",
       "      <td>12.01</td>\n",
       "      <td>Oxford/AstraZeneca, Pfizer/BioNTech</td>\n",
       "    </tr>\n",
       "    <tr>\n",
       "      <th>4</th>\n",
       "      <td>Angola</td>\n",
       "      <td>909215</td>\n",
       "      <td>679034</td>\n",
       "      <td>230181</td>\n",
       "      <td>8959.0</td>\n",
       "      <td>2.07</td>\n",
       "      <td>0.70</td>\n",
       "      <td>Oxford/AstraZeneca</td>\n",
       "    </tr>\n",
       "    <tr>\n",
       "      <th>...</th>\n",
       "      <td>...</td>\n",
       "      <td>...</td>\n",
       "      <td>...</td>\n",
       "      <td>...</td>\n",
       "      <td>...</td>\n",
       "      <td>...</td>\n",
       "      <td>...</td>\n",
       "      <td>...</td>\n",
       "    </tr>\n",
       "    <tr>\n",
       "      <th>204</th>\n",
       "      <td>Vietnam</td>\n",
       "      <td>1156056</td>\n",
       "      <td>1124505</td>\n",
       "      <td>71477</td>\n",
       "      <td>3675.0</td>\n",
       "      <td>1.16</td>\n",
       "      <td>0.08</td>\n",
       "      <td>Oxford/AstraZeneca</td>\n",
       "    </tr>\n",
       "    <tr>\n",
       "      <th>205</th>\n",
       "      <td>Wallis and Futuna</td>\n",
       "      <td>8365</td>\n",
       "      <td>4374</td>\n",
       "      <td>3991</td>\n",
       "      <td>77.0</td>\n",
       "      <td>38.89</td>\n",
       "      <td>35.49</td>\n",
       "      <td>Oxford/AstraZeneca</td>\n",
       "    </tr>\n",
       "    <tr>\n",
       "      <th>206</th>\n",
       "      <td>Yemen</td>\n",
       "      <td>104070</td>\n",
       "      <td>104070</td>\n",
       "      <td>0</td>\n",
       "      <td>4276.0</td>\n",
       "      <td>0.35</td>\n",
       "      <td>0.00</td>\n",
       "      <td>Oxford/AstraZeneca</td>\n",
       "    </tr>\n",
       "    <tr>\n",
       "      <th>207</th>\n",
       "      <td>Zambia</td>\n",
       "      <td>147115</td>\n",
       "      <td>141829</td>\n",
       "      <td>5286</td>\n",
       "      <td>3504.0</td>\n",
       "      <td>0.77</td>\n",
       "      <td>0.03</td>\n",
       "      <td>Oxford/AstraZeneca, Sinopharm/Beijing</td>\n",
       "    </tr>\n",
       "    <tr>\n",
       "      <th>208</th>\n",
       "      <td>Zimbabwe</td>\n",
       "      <td>1048504</td>\n",
       "      <td>684164</td>\n",
       "      <td>364340</td>\n",
       "      <td>10958.5</td>\n",
       "      <td>4.60</td>\n",
       "      <td>2.45</td>\n",
       "      <td>Sinopharm/Beijing</td>\n",
       "    </tr>\n",
       "  </tbody>\n",
       "</table>\n",
       "<p>209 rows × 8 columns</p>\n",
       "</div>"
      ],
      "text/plain": [
       "               country  total_vaccinations  people_vaccinated  \\\n",
       "0          Afghanistan              626290             481690   \n",
       "1              Albania              787321             490050   \n",
       "2              Algeria               75000              75000   \n",
       "3              Andorra               35916              27613   \n",
       "4               Angola              909215             679034   \n",
       "..                 ...                 ...                ...   \n",
       "204            Vietnam             1156056            1124505   \n",
       "205  Wallis and Futuna                8365               4374   \n",
       "206              Yemen              104070             104070   \n",
       "207             Zambia              147115             141829   \n",
       "208           Zimbabwe             1048504             684164   \n",
       "\n",
       "     people_fully_vaccinated  daily_vaccinations_avg  \\\n",
       "0                     144600                  4822.0   \n",
       "1                     606886                  2895.0   \n",
       "2                          0                  3748.0   \n",
       "3                       9283                   197.0   \n",
       "4                     230181                  8959.0   \n",
       "..                       ...                     ...   \n",
       "204                    71477                  3675.0   \n",
       "205                     3991                    77.0   \n",
       "206                        0                  4276.0   \n",
       "207                     5286                  3504.0   \n",
       "208                   364340                 10958.5   \n",
       "\n",
       "     people_vaccinated_per_hundred  people_fully_vaccinated_per_hundred  \\\n",
       "0                             1.24                                 0.37   \n",
       "1                            17.03                                21.09   \n",
       "2                             0.17                                 0.00   \n",
       "3                            35.74                                12.01   \n",
       "4                             2.07                                 0.70   \n",
       "..                             ...                                  ...   \n",
       "204                           1.16                                 0.08   \n",
       "205                          38.89                                35.49   \n",
       "206                           0.35                                 0.00   \n",
       "207                           0.77                                 0.03   \n",
       "208                           4.60                                 2.45   \n",
       "\n",
       "                                              vaccines  \n",
       "0      BBIBP-CorV, Oxford/AstraZeneca, Pfizer/BioNTech  \n",
       "1    Oxford/AstraZeneca, Pfizer/BioNTech, Sinovac, ...  \n",
       "2                        Oxford/AstraZeneca, Sputnik V  \n",
       "3                  Oxford/AstraZeneca, Pfizer/BioNTech  \n",
       "4                                   Oxford/AstraZeneca  \n",
       "..                                                 ...  \n",
       "204                                 Oxford/AstraZeneca  \n",
       "205                                 Oxford/AstraZeneca  \n",
       "206                                 Oxford/AstraZeneca  \n",
       "207              Oxford/AstraZeneca, Sinopharm/Beijing  \n",
       "208                                  Sinopharm/Beijing  \n",
       "\n",
       "[209 rows x 8 columns]"
      ]
     },
     "execution_count": 28,
     "metadata": {},
     "output_type": "execute_result"
    }
   ],
   "source": [
    "vaccine_data"
   ]
  },
  {
   "cell_type": "code",
   "execution_count": 29,
   "id": "5c25ac9d-b84e-40b6-8042-a3d2e44e6f0b",
   "metadata": {
    "scrolled": true,
    "tags": []
   },
   "outputs": [],
   "source": [
    "pop_vac = ['Moderna', 'AstraZeneca','Pfizer','Sputnik','Sinovac', 'John']\n",
    "con_count = []\n",
    "for vac in pop_vac :\n",
    "    filt = vaccine_data['vaccines'].str.contains(vac)\n",
    "    con_count.append(vaccine_data.loc[filt, 'country'].count())"
   ]
  },
  {
   "cell_type": "code",
   "execution_count": 30,
   "id": "af53cb79-dcd1-450f-85fa-4fd158662638",
   "metadata": {},
   "outputs": [
    {
     "data": {
      "text/plain": [
       "[50, 171, 100, 45, 30, 26]"
      ]
     },
     "execution_count": 30,
     "metadata": {},
     "output_type": "execute_result"
    }
   ],
   "source": [
    "con_count"
   ]
  },
  {
   "cell_type": "code",
   "execution_count": 31,
   "id": "fcf939a2-c3da-4629-b490-55f8a0ec1857",
   "metadata": {},
   "outputs": [
    {
     "data": {
      "image/png": "[encoded data removed]",
      "text/plain": [
       "<Figure size 576x396 with 1 Axes>"
      ]
     },
     "metadata": {},
     "output_type": "display_data"
    }
   ],
   "source": [
    "plt.pie(con_count, labels=pop_vac)\n",
    "plt.show()"
   ]
  },
  {
   "cell_type": "markdown",
   "id": "b42cb05d-a008-46db-95ae-4385f53a304c",
   "metadata": {},
   "source": [
    "Most of the countries have used Oxford AstraZeneca followed by Pfizer and Moderna vaccines."
   ]
  },
  {
   "cell_type": "code",
   "execution_count": 32,
   "id": "732594d2-67f7-4d04-bf38-c4df9da72d97",
   "metadata": {
    "tags": []
   },
   "outputs": [
    {
     "data": {
      "text/plain": [
       "array(['BBIBP-CorV, Oxford/AstraZeneca, Pfizer/BioNTech',\n",
       "       'Oxford/AstraZeneca, Pfizer/BioNTech, Sinovac, Sputnik V',\n",
       "       'Oxford/AstraZeneca, Sputnik V',\n",
       "       'Oxford/AstraZeneca, Pfizer/BioNTech', 'Oxford/AstraZeneca',\n",
       "       'Oxford/AstraZeneca, Sinopharm/Beijing, Sputnik V',\n",
       "       'Oxford/AstraZeneca, Sinovac, Sputnik V', 'Pfizer/BioNTech',\n",
       "       'Johnson&Johnson, Moderna, Oxford/AstraZeneca, Pfizer/BioNTech',\n",
       "       'Oxford/AstraZeneca, Pfizer/BioNTech, Sinopharm/Beijing, Sputnik V',\n",
       "       'Sinopharm/Beijing, Sputnik V',\n",
       "       'Oxford/AstraZeneca, Sinopharm/Beijing',\n",
       "       'Oxford/AstraZeneca, Sinovac', 'Moderna, Pfizer/BioNTech',\n",
       "       'Oxford/AstraZeneca, Pfizer/BioNTech, Sinovac',\n",
       "       'Oxford/AstraZeneca, Sinopharm/Beijing, Sinovac',\n",
       "       'BBIBP-CorV, Oxford/AstraZeneca',\n",
       "       'Moderna, Oxford/AstraZeneca, Pfizer/BioNTech',\n",
       "       'Covaxin, Oxford/AstraZeneca',\n",
       "       'CanSino, Oxford/AstraZeneca, Pfizer/BioNTech, Sinovac',\n",
       "       'CanSino, Sinopharm/Beijing, Sinopharm/Wuhan, Sinovac',\n",
       "       'Covaxin, Oxford/AstraZeneca, Sinopharm/Beijing',\n",
       "       'BBIBP-CorV, Moderna, Oxford/AstraZeneca, Sputnik V',\n",
       "       'Abdala, Soberana02',\n",
       "       'Oxford/AstraZeneca, Pfizer/BioNTech, Sinopharm/Beijing, Sinovac',\n",
       "       'BBIBP-CorV, Oxford/AstraZeneca, Sinovac, Sputnik V',\n",
       "       'Sinopharm/Beijing', 'Moderna', 'Moderna, Oxford/AstraZeneca',\n",
       "       'Sputnik V',\n",
       "       'Johnson&Johnson, Moderna, Oxford/AstraZeneca, Sputnik V',\n",
       "       'Pfizer/BioNTech, Sinovac',\n",
       "       'Johnson&Johnson, Moderna, Oxford/AstraZeneca, Pfizer/BioNTech, Sinopharm/Beijing, Sputnik V',\n",
       "       'BBIBP-CorV, Covaxin, Oxford/AstraZeneca, Sputnik V',\n",
       "       'BBIBP-CorV, Oxford/AstraZeneca, Pfizer/BioNTech, Sputnik V',\n",
       "       'QazVac, Sinopharm/HayatVax, Sputnik V',\n",
       "       'Johnson&Johnson, Moderna, Oxford/AstraZeneca, Pfizer/BioNTech, Sinovac, Sputnik V',\n",
       "       'Pfizer/BioNTech, Sinopharm/Beijing',\n",
       "       'Oxford/AstraZeneca, Pfizer/BioNTech, Sinopharm/Beijing',\n",
       "       'CanSino, Oxford/AstraZeneca, Pfizer/BioNTech, Sinovac, Sputnik V',\n",
       "       'CanSino, Oxford/AstraZeneca, Sinopharm/Beijing, Sinovac, Sputnik V',\n",
       "       'Covaxin, Oxford/AstraZeneca, Sinopharm/Beijing, Sinovac, Sputnik V',\n",
       "       'EpiVacCorona, Sputnik V', 'Pfizer/BioNTech, Sputnik V',\n",
       "       'BBIBP-CorV, Oxford/AstraZeneca, Sinovac',\n",
       "       'Johnson&Johnson, Pfizer/BioNTech',\n",
       "       'Johnson&Johnson, Oxford/AstraZeneca, Pfizer/BioNTech',\n",
       "       'BBIBP-CorV, Oxford/AstraZeneca, Pfizer/BioNTech, Sinovac',\n",
       "       'EpiVacCorona, Oxford/AstraZeneca, Sinopharm/Beijing, Sputnik V',\n",
       "       'Oxford/AstraZeneca, Pfizer/BioNTech, Sinopharm/Beijing, Sinopharm/Wuhan, Sputnik V',\n",
       "       'Johnson&Johnson, Moderna, Pfizer/BioNTech',\n",
       "       'Oxford/AstraZeneca, RBD-Dimer, Sputnik V',\n",
       "       'BBIBP-CorV, Sputnik V'], dtype=object)"
      ]
     },
     "execution_count": 32,
     "metadata": {},
     "output_type": "execute_result"
    }
   ],
   "source": [
    "vaccine_data['vaccines'].unique()"
   ]
  },
  {
   "cell_type": "code",
   "execution_count": null,
   "id": "84a0e5ae-a91e-451d-9fac-4f6a5bc6ce04",
   "metadata": {},
   "outputs": [],
   "source": []
  },
  {
   "cell_type": "code",
   "execution_count": 33,
   "id": "a8f81329-cc53-4540-8f8d-fe7aed4a17c0",
   "metadata": {},
   "outputs": [
    {
     "data": {
      "text/html": [
       "<div>\n",
       "<style scoped>\n",
       "    .dataframe tbody tr th:only-of-type {\n",
       "        vertical-align: middle;\n",
       "    }\n",
       "\n",
       "    .dataframe tbody tr th {\n",
       "        vertical-align: top;\n",
       "    }\n",
       "\n",
       "    .dataframe thead th {\n",
       "        text-align: right;\n",
       "    }\n",
       "</style>\n",
       "<table border=\"1\" class=\"dataframe\">\n",
       "  <thead>\n",
       "    <tr style=\"text-align: right;\">\n",
       "      <th></th>\n",
       "      <th>vaccines</th>\n",
       "      <th>country</th>\n",
       "    </tr>\n",
       "  </thead>\n",
       "  <tbody>\n",
       "    <tr>\n",
       "      <th>30</th>\n",
       "      <td>Oxford/AstraZeneca</td>\n",
       "      <td>50</td>\n",
       "    </tr>\n",
       "    <tr>\n",
       "      <th>19</th>\n",
       "      <td>Johnson&amp;Johnson, Moderna, Oxford/AstraZeneca, ...</td>\n",
       "      <td>20</td>\n",
       "    </tr>\n",
       "    <tr>\n",
       "      <th>29</th>\n",
       "      <td>Moderna, Pfizer/BioNTech</td>\n",
       "      <td>11</td>\n",
       "    </tr>\n",
       "    <tr>\n",
       "      <th>28</th>\n",
       "      <td>Moderna, Oxford/AstraZeneca, Pfizer/BioNTech</td>\n",
       "      <td>11</td>\n",
       "    </tr>\n",
       "    <tr>\n",
       "      <th>31</th>\n",
       "      <td>Oxford/AstraZeneca, Pfizer/BioNTech</td>\n",
       "      <td>11</td>\n",
       "    </tr>\n",
       "    <tr>\n",
       "      <th>...</th>\n",
       "      <td>...</td>\n",
       "      <td>...</td>\n",
       "    </tr>\n",
       "    <tr>\n",
       "      <th>21</th>\n",
       "      <td>Johnson&amp;Johnson, Moderna, Oxford/AstraZeneca, ...</td>\n",
       "      <td>1</td>\n",
       "    </tr>\n",
       "    <tr>\n",
       "      <th>22</th>\n",
       "      <td>Johnson&amp;Johnson, Moderna, Oxford/AstraZeneca, ...</td>\n",
       "      <td>1</td>\n",
       "    </tr>\n",
       "    <tr>\n",
       "      <th>23</th>\n",
       "      <td>Johnson&amp;Johnson, Moderna, Pfizer/BioNTech</td>\n",
       "      <td>1</td>\n",
       "    </tr>\n",
       "    <tr>\n",
       "      <th>24</th>\n",
       "      <td>Johnson&amp;Johnson, Oxford/AstraZeneca, Pfizer/Bi...</td>\n",
       "      <td>1</td>\n",
       "    </tr>\n",
       "    <tr>\n",
       "      <th>52</th>\n",
       "      <td>Sputnik V</td>\n",
       "      <td>1</td>\n",
       "    </tr>\n",
       "  </tbody>\n",
       "</table>\n",
       "<p>53 rows × 2 columns</p>\n",
       "</div>"
      ],
      "text/plain": [
       "                                             vaccines  country\n",
       "30                                 Oxford/AstraZeneca       50\n",
       "19  Johnson&Johnson, Moderna, Oxford/AstraZeneca, ...       20\n",
       "29                           Moderna, Pfizer/BioNTech       11\n",
       "28       Moderna, Oxford/AstraZeneca, Pfizer/BioNTech       11\n",
       "31                Oxford/AstraZeneca, Pfizer/BioNTech       11\n",
       "..                                                ...      ...\n",
       "21  Johnson&Johnson, Moderna, Oxford/AstraZeneca, ...        1\n",
       "22  Johnson&Johnson, Moderna, Oxford/AstraZeneca, ...        1\n",
       "23          Johnson&Johnson, Moderna, Pfizer/BioNTech        1\n",
       "24  Johnson&Johnson, Oxford/AstraZeneca, Pfizer/Bi...        1\n",
       "52                                          Sputnik V        1\n",
       "\n",
       "[53 rows x 2 columns]"
      ]
     },
     "execution_count": 33,
     "metadata": {},
     "output_type": "execute_result"
    }
   ],
   "source": [
    "vaccine_data.groupby(['country', 'vaccines']).count().reset_index()[['country', 'vaccines']]\\\n",
    "                  .groupby('vaccines').count()['country'].reset_index().sort_values('country', ascending=False)"
   ]
  },
  {
   "cell_type": "markdown",
   "id": "steady-microphone",
   "metadata": {
    "tags": []
   },
   "source": [
    "## What country has advance and good vaccination program ?"
   ]
  },
  {
   "cell_type": "code",
   "execution_count": null,
   "id": "a481b1fc",
   "metadata": {
    "tags": []
   },
   "outputs": [],
   "source": []
  },
  {
   "cell_type": "code",
   "execution_count": null,
   "id": "5b23a7b6",
   "metadata": {
    "tags": []
   },
   "outputs": [],
   "source": []
  },
  {
   "cell_type": "markdown",
   "id": "russian-sterling",
   "metadata": {
    "tags": []
   },
   "source": [
    "## After the beginning of the vaccine process all around the world, how the infection trend moves?"
   ]
  },
  {
   "cell_type": "code",
   "execution_count": 34,
   "id": "6f8d500e-a3e0-4c0a-af4c-ad348df97697",
   "metadata": {
    "tags": []
   },
   "outputs": [],
   "source": [
    "##sample code"
   ]
  }
 ],
 "metadata": {
  "kernelspec": {
   "display_name": "Python 3",
   "language": "python",
   "name": "python3"
  },
  "language_info": {
   "codemirror_mode": {
    "name": "ipython",
    "version": 3
   },
   "file_extension": ".py",
   "mimetype": "text/x-python",
   "name": "python",
   "nbconvert_exporter": "python",
   "pygments_lexer": "ipython3",
   "version": "3.7.3"
  },
  "toc-autonumbering": false,
  "toc-showcode": false,
  "toc-showmarkdowntxt": false
 },
 "nbformat": 4,
 "nbformat_minor": 5
}
