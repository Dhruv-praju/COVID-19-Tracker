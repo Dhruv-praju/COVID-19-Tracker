import pandas as pd
import numpy as np
from matplotlib import pyplot as plt
from matplotlib import dates as mpl_dates
plt.style.use('fivethirtyeight')


state_covid_df = pd.read_csv('https://api.covid19india.org/csv/latest/states.csv')
pd.set_option('display.max_rows', 10)


state_covid_df


state_covid_df.info()


state_covid_df.head()


state_covid_df['Date'] = pd.to_datetime(state_covid_df['Date'])


state_covid_df.sort_values(by=['State','Date'], inplace=True)


filt = state_covid_df.State=='Maharashtra'
state_covid_df.loc[filt].tail(200)


state_grp = state_covid_df.groupby('State')


state_wise = state_grp.agg({'Confirmed':'max', 'Recovered':'max','Deceased':'max','Tested':'max'}).sort_values(by='Confirmed',ascending=False)


state_wise


state_wise.drop('State Unassigned', inplace=True)


fatality_ratio = (state_wise['Deceased']/state_wise['Confirmed'])*100


state_wise['Fatality_ratio'] = fatality_ratio


state_wise


only_state_wise_df = state_wise.drop('India')


only_state_wise_df.sort_values('Fatality_ratio',
                                     ascending=False)['Fatality_ratio'].head(20).plot.barh(figsize=(9,10), color='#df0000')
plt.xlabel('Percent (%)')
plt.suptitle('Top 20 States with highest fatality Ratio',fontsize=22)
# plt.suptitle('df')


states_recovery_per = (only_state_wise_df['Recovered']/only_state_wise_df['Confirmed'])*100


states_recovery_per.sort_values(ascending=False)


states_recovery_per.sort_values(ascending=False).plot.barh(figsize=(6,16), color='#5f9c17')
plt.xlabel('Percent (%)')
plt.ylabel('')
plt.title('Recovery rate of Each State', fontsize=22)


per_chan = (only_state_wise_df['Confirmed']/only_state_wise_df['Tested'])*100


per_chan.sort_values(ascending=False).head(20).plot.bar(figsize=(10,6), color='#2091b0')
plt.ylabel('Percent (%)')
plt.xlabel('')
plt.suptitle('Confirmed to Tested Ratio', fontsize=22)





state_wise.drop('India', inplace=True)


others_ser = state_wise.loc['Uttarakhand':].agg('sum')


state_wise.index


state_wise.drop(index=['Uttarakhand', 'Goa', 'Himachal Pradesh', 'Puducherry', 'Tripura',
       'Manipur', 'Chandigarh', 'Arunachal Pradesh', 'Meghalaya', 'Nagaland',
       'Ladakh', 'Sikkim', 'Andaman and Nicobar Islands', 'Mizoram',
       'Dadra and Nagar Haveli and Daman and Diu',
       'Lakshadweep'], inplace=True)


state_wise.loc['Others'] = others_ser


state_wise


state_wise_cases = state_wise['Confirmed']
state_wise_rec = state_wise['Recovered']
state_wise_deaths = state_wise['Deceased']


fig, ax = plt.subplots()
fig.set_figheight(27)
fig.set_figwidth(9)
patches, texts, autotexts = ax.pie(state_wise_cases.values, labels=state_wise_cases.index, autopct='%1.1f%%')

for i in range(len(texts)):
    texts[i].set_fontsize(17)
    autotexts[i].set_fontsize(15)

plt.title('Percent share of Confirmed Cases by State')

plt.savefig('Images/cases.png', bbox_inches='tight', pad_inches=0.4)


maharashtra = state_grp.get_group('Maharashtra')[['Date','Confirmed','Recovered','Deceased']]
karnataka = state_grp.get_group('Karnataka')[['Date','Confirmed','Recovered','Deceased']]
andhra = state_grp.get_group('Andhra Pradesh')[['Date','Confirmed','Recovered','Deceased']]
tamil_nadu = state_grp.get_group('Tamil Nadu')[['Date','Confirmed','Recovered','Deceased']]
kerala = state_grp.get_group('Kerala')[['Date','Confirmed','Recovered','Deceased']]
delhi = state_grp.get_group('Delhi')[['Date','Confirmed','Recovered','Deceased']]
up = state_grp.get_group('Uttar Pradesh')[['Date','Confirmed','Recovered','Deceased']]
west_ben = state_grp.get_group('West Bengal')[['Date','Confirmed','Recovered','Deceased']]


maharashtra


plt.figure(figsize=(10,7))
dates = maharashtra['Date']
plt.plot(dates, maharashtra['Confirmed']/10**6,label='Maharashtra',alpha=.7)
dates = karnataka['Date']
plt.plot(dates, karnataka['Confirmed']/10**6,label='Karnataka',alpha=.7)
dates = andhra['Date']
plt.plot(dates, andhra['Confirmed']/10**6,label='Andhra Pradesh',alpha=.7)
dates = tamil_nadu['Date']
plt.plot(dates, tamil_nadu['Confirmed']/10**6,label='Tamil Nadu',alpha=.7)
dates = kerala['Date']
plt.plot(dates, kerala['Confirmed']/10**6,label='Kerala',alpha=.7)
dates = delhi['Date']
plt.plot(dates, delhi['Confirmed']/10**6,label='Delhi',alpha=.7)
dates = up['Date']
plt.plot(dates, up['Confirmed']/10**6,label='UP',color='#b02319',alpha=.7)
dates = west_ben['Date']
plt.plot(dates, west_ben['Confirmed']/10**6,label='West Bengal',color='#5753d4')

plt.legend()

plt.gcf().autofmt_xdate()
date_format = mpl_dates.DateFormatter('%d %b, %Y')
plt.gca().xaxis.set_major_formatter(date_format)

plt.ylabel('Total Cases (in Million)')
plt.suptitle('Top 8 States with Higest cases over Time', fontsize=20)


plt.figure(figsize=(10,7))
dates = maharashtra['Date']
plt.plot(dates, maharashtra['Recovered']/10**6,label='Maharashtra',alpha=.7)
dates = karnataka['Date']
plt.plot(dates, karnataka['Recovered']/10**6,label='Karnataka',alpha=.7)
dates = andhra['Date']
plt.plot(dates, andhra['Recovered']/10**6,label='Andhra Pradesh',alpha=.7)
dates = tamil_nadu['Date']
plt.plot(dates, tamil_nadu['Recovered']/10**6,label='Tamil Nadu',alpha=.7)
dates = kerala['Date']
plt.plot(dates, kerala['Recovered']/10**6,label='Kerala',alpha=.7)
dates = delhi['Date']
plt.plot(dates, delhi['Recovered']/10**6,label='Delhi',alpha=.7)
dates = up['Date']
plt.plot(dates, up['Recovered']/10**6,label='UP',color='#b02319',alpha=.7)
dates = west_ben['Date']
plt.plot(dates, west_ben['Recovered']/10**6,label='West Bengal',color='#5753d4')

plt.legend()

plt.gcf().autofmt_xdate()
date_format = mpl_dates.DateFormatter('%d %b, %Y')
plt.gca().xaxis.set_major_formatter(date_format)

plt.ylabel('Total Cases (in Million)')
plt.suptitle('Top 8 States Recovery over Time', fontsize=20)


plt.figure(figsize=(10,7))
dates = maharashtra['Date']
plt.plot(dates, maharashtra['Deceased']/10**6,label='Maharashtra',alpha=.7)
dates = karnataka['Date']
plt.plot(dates, karnataka['Deceased']/10**6,label='Karnataka',alpha=.7)
dates = andhra['Date']
plt.plot(dates, andhra['Deceased']/10**6,label='Andhra Pradesh',alpha=.7)
dates = tamil_nadu['Date']
plt.plot(dates, tamil_nadu['Deceased']/10**6,label='Tamil Nadu',alpha=.7)
dates = kerala['Date']
plt.plot(dates, kerala['Deceased']/10**6,label='Kerala',alpha=.7)
dates = delhi['Date']
plt.plot(dates, delhi['Deceased']/10**6,label='Delhi',alpha=.7)
dates = up['Date']
plt.plot(dates, up['Deceased']/10**6,label='UP',color='#b02319',alpha=.7)
dates = west_ben['Date']
plt.plot(dates, west_ben['Deceased']/10**6,label='West Bengal',color='#5753d4')

plt.legend()

plt.gcf().autofmt_xdate()
date_format = mpl_dates.DateFormatter('%d %b, %Y')
plt.gca().xaxis.set_major_formatter(date_format)

plt.ylabel('Total Cases (in Million)')
plt.suptitle('Total Deaths in Top 8 States over Time', fontsize=20)


death = only_state_wise_df.Deceased
recov = only_state_wise_df.Recovered
conf = only_state_wise_df.Confirmed
active = conf - death - recov

plt.figure(figsize=(6,13))

data_lst = [conf/10**6, active/10**6, recov/10**6, death/10**6]
label_lst = ['Confirmed','Active','Recovered','Deceased']
color_lst = ['royalblue','#c42f43','#89a832','black']
left=0

for data, color, label in zip(data_lst, color_lst, label_lst):
    plt.barh(data.index, data, color=color, left=left, label=label)
    left+=data

plt.legend()
plt.xlabel('Count (in Million)')

plt.savefig('Images/cases_summary.png', bbox_inches='tight', pad_inches=.3)

## Confirmed = Active + Recovered + Deceased


state_daily_df = pd.read_csv('https://api.covid19india.org/csv/latest/state_wise_daily.csv')


state_daily_df.head()


state_daily_df.info()


state_daily_df['Date_YMD'] = pd.to_datetime(state_daily_df['Date_YMD'], format='%Y-%m-%d')


state_daily_df.sort_values(by=['Status','Date_YMD'], inplace=True)


state_daily_df


state_daily_df.set_index('Date_YMD', inplace=True)


filt = state_daily_df.Status=='Confirmed'
maha_daily_conf = state_daily_df.loc[filt, 'MH']
filt = state_daily_df.Status=='Recovered'
maha_daily_rec = state_daily_df.loc[filt, 'MH']
filt = state_daily_df.Status=='Deceased'
maha_daily_death = state_daily_df.loc[filt, 'MH']


curr_date = state_daily_df.index.max()

todays_cases = maha_daily_conf.get(curr_date)
todays_rec = maha_daily_rec.get(curr_date)
todays_death = maha_daily_death.get(curr_date)


plt.figure(figsize=(10,6))

maha_daily_conf.plot(linewidth=2, label='Confirmed')
maha_daily_death.plot(linewidth=2, label='Deceased')
maha_daily_rec.plot(linewidth=2, label='Recovered', alpha=.8)

plt.gcf().autofmt_xdate()
date_format = mpl_dates.DateFormatter('%d %b, %Y')
plt.gca().xaxis.set_major_formatter(date_format)
plt.gca().xaxis.set_major_locator(plt.MaxNLocator(10))


plt.ylabel('Count')
plt.xlabel('')
plt.suptitle('Daily Status of Maharashtra', fontsize=21)
plt.legend()

plt.annotate(text='con-'+str(todays_cases), xy=(curr_date, todays_cases),
             xycoords='data', xytext=(-35,10), textcoords='offset points', fontsize=14)
plt.annotate(text='rec-'+str(todays_rec), xy=(curr_date, todays_rec),
             xycoords='data', xytext=(-35,-10), textcoords='offset points', fontsize=14)
plt.annotate(text=str(todays_death), xy=(curr_date, todays_death),
             xycoords='data', xytext=(-35,10), textcoords='offset points', fontsize=14)

plt.savefig('Images/maha_summary.png',bbox_inches='tight', pad_inches=0.2)


vac_df = pd.read_csv('http://api.covid19india.org/csv/latest/cowin_vaccine_data_statewise.csv')
pd.set_option('display.max_rows', 10)


vac_df


filt = vac_df.State=='India'
index_names = vac_df.loc[filt].index
state_vac_df = vac_df.drop(index_names).copy()


state_vac_df


state_vac_df.drop(['Total Sessions Conducted','Total Sites ','Male(Individuals Vaccinated)','Female(Individuals Vaccinated)','Transgender(Individuals Vaccinated)'], axis=1, inplace=True)


state_vac_df.head(200)


state_vac_df.rename(columns={'Updated On':'Date'}, inplace=True)


state_vac_df['Date'] = pd.to_datetime(state_vac_df['Date'], format='%d/%m/%Y')
state_vac_df.sort_values(by=['State', 'Date'])


state_vac_grp = state_vac_df.groupby('State')


state_wise_vac = state_vac_grp.agg({'First Dose Administered':'max', 'Second Dose Administered':'max',
                  'Second Dose Administered':'max', 'Total Covaxin Administered':'max',
                  'Total CoviShield Administered':'max','Total Individuals Vaccinated':'max',
                  'Total Doses Administered':'max'})


states = (state_wise_vac['Total Individuals Vaccinated']/10**6).sort_values(ascending=False)


plt.figure(figsize=(6,16))
states.plot.barh(color='#8a3eab')
plt.xlabel('Count (in Million)')
plt.ylabel('')
plt.title('Vaccination of all States', fontsize=22)


state_vac_df.head(300)


state_vac_df.dropna(thresh=5, inplace=True)


state_vac_df.set_index(['State', 'Date'], inplace=True)


mah_total_vac = state_vac_df.loc['Maharashtra']['Total Individuals Vaccinated']
up_total_vac = state_vac_df.loc['Uttar Pradesh']['Total Individuals Vaccinated']
guj_total_vac = state_vac_df.loc['Gujarat']['Total Individuals Vaccinated']
raj_total_vac = state_vac_df.loc['Rajasthan']['Total Individuals Vaccinated']
wb_total_vac = state_vac_df.loc['West Bengal']['Total Individuals Vaccinated']
kar_total_vac = state_vac_df.loc['Karnataka']['Total Individuals Vaccinated']



plt.figure(figsize=(10,6))
plt.plot(mah_total_vac/10**6, label='Maharashtra')
plt.plot(up_total_vac/10**6, label='Uttar Pradesh')
plt.plot(guj_total_vac/10**6, label='Gujarat')
plt.plot(raj_total_vac/10**6, label='Rajasthan')
plt.plot(wb_total_vac/10**6, label='West Bengal')
plt.plot(kar_total_vac/10**6, label='Karnataka')

plt.gcf().autofmt_xdate()
date_format = mpl_dates.DateFormatter('%d %b, %Y')
plt.gca().xaxis.set_major_formatter(date_format)

plt.gca().xaxis.set_major_locator(plt.MaxNLocator(10))

plt.legend()
plt.xlabel('')
plt.ylabel('Count (in Million)')
plt.suptitle('Total Individuals Vaccinated Over Time', fontsize=22)

plt.savefig('Images/vac_time.png', bbox_inches='tight', pad_inches=0.2)


state_vac_df


state_vac_df['Daily Individuals Vaccinated']=""


prev_state=state_vac_df.index[0][0]
prev_vac=0
curr_vac=0
count = 0

for state, date in state_vac_df.index:
    curr_state = state
    
    if(curr_state!=prev_state): 
        prev_vac=0
        
    curr_vac = state_vac_df.loc[(state,date),'Total Individuals Vaccinated']
    if(curr_vac-prev_vac < 0 ): 
        count+=1;
        state_vac_df.loc[(state,date), 'Daily Individuals Vaccinated'] = 0
    else: state_vac_df.loc[(state,date), 'Daily Individuals Vaccinated'] = curr_vac-prev_vac
    prev_vac=curr_vac
    prev_state = curr_state


state_vac_df


mah_daily_vac = state_vac_df.loc['Maharashtra']['Daily Individuals Vaccinated']
up_daily_vac = state_vac_df.loc['Uttar Pradesh']['Daily Individuals Vaccinated']
raj_daily_vac = state_vac_df.loc['Rajasthan']['Daily Individuals Vaccinated']
guj_daily_vac = state_vac_df.loc['Gujarat']['Daily Individuals Vaccinated']
wb_daily_vac = state_vac_df.loc['West Bengal']['Daily Individuals Vaccinated']
kar_daily_vac = state_vac_df.loc['Karnataka']['Daily Individuals Vaccinated']


curr_mah_vac = mah_daily_vac.loc[curr_date]


curr_mah_vac


plt.figure(figsize=(10,6))
mah_daily_vac.plot(label='Maharashtra',linewidth=2, alpha=.8)
# up_daily_vac.plot(label='Uttar Pradesh', linewidth=2, alpha=.8)
# raj_daily_vac.plot(label='Rajasthan', linewidth=2, alpha=.8)
# guj_daily_vac.plot(label='Gujarat', linewidth=2, alpha=.7)
# wb_daily_vac.plot(label='West Bengal', linewidth=2, alpha=.7)
# kar_daily_vac.plot(label='Karnataka', linewidth=2, alpha=.6)

plt.gcf().autofmt_xdate()
date_format = mpl_dates.DateFormatter('%d %b, %Y')
plt.gca().xaxis.set_major_formatter(date_format)

plt.gca().xaxis.set_major_locator(plt.MaxNLocator(10))

plt.legend()
plt.xlabel('')
plt.ylabel('Count')
plt.suptitle('Daily Individuals Vaccinated', fontsize=22)
plt.annotate(text=str(int(curr_mah_vac)), xy=(curr_date, curr_mah_vac),
             xycoords='data', xytext=(-5,10), textcoords='offset points', fontsize=14)





states_conf = only_state_wise_df['Confirmed']/10**6
states_active = only_state_wise_df['Confirmed']-only_state_wise_df['Recovered']-only_state_wise_df['Deceased']
states_fat_ratio = only_state_wise_df['Fatality_ratio']*1000


plt.style.use("seaborn-dark")

plt.figure(figsize=(7,7))
colors = np.random.randint(100, size=(len(states_conf)))

plt.scatter(states_conf, states_active, c=colors, alpha=.2, s=states_fat_ratio, cmap='nipy_spectral')
plt.yscale('log')
plt.colorbar()
plt.grid(True)
plt.xlabel('Confirmed')
plt.ylabel('Active')
