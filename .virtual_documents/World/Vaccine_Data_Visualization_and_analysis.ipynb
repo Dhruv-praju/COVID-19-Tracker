import pandas as pd
import numpy as np
from matplotlib import pyplot as plt


vac_data = pd.read_csv('cleaned_vaccinations.csv')


pd.set_option('display.max_rows', 10)


vac_data.head(1000)


vac_data.dtypes


vac_data['date'] = pd.to_datetime(vac_data['date'], format='%Y-%m-%d')


vac_data.dtypes


plt.style.use('seaborn')
filt = vac_data.country=='Gibralter'
vac_data.loc[filt]


country_grp = vac_data.groupby(['country'])


country_grp['total_vaccinations']


con_wise_df = country_grp.agg({'total_vaccinations': 'max',
                 'people_vaccinated':'max',
                 'people_fully_vaccinated':'max',
                 'daily_vaccinations_avg':'median',
                 'people_vaccinated_per_hundred':'max',
                'people_fully_vaccinated_per_hundred':'max'})


con_wise_df


con_wise_df


con_wise_total_vac = con_wise_df['total_vaccinations'].sort_values(ascending=False).head(20)
con_wise_total_vac


con_wise_total_vac.sort_values(ascending=True, inplace=True)


 con_wise_df['people_vaccinated'].sort_values(ascending=False).head(20)


con_wise_people_vac = con_wise_df['people_vaccinated'].sort_values(ascending=False).head(20).sort_values()/10**6


con_wise_people_vac.plot(kind='barh', figsize=(10,8))

# plt.barh(con_wise_total_vac.index, con_wise_total_vac.values)
plt.ylabel('Conutry',fontsize=14)
plt.xlabel('Count (in Millions)',fontsize=14)
plt.yticks(fontsize=13)
plt.xticks(fontsize=14)
plt.suptitle('People Vaccinated by Country', fontsize=22)

plt.savefig('Images/tot_vac.png',bbox_inches='tight', pad_inches=0.2)


con_max_pop_vac = con_wise_df.loc[:, ['people_vaccinated_per_hundred', 'people_fully_vaccinated_per_hundred']].sort_values(by='people_vaccinated_per_hundred',ascending=False).head(20)


con_max_pop_vac.plot(kind='bar', figsize=(10,6), stacked=True)
plt.xlabel('Conutry',fontsize=15)
plt.ylabel('Percent(%)',fontsize=15)
plt.xticks(fontsize=14)
plt.yticks(fontsize=14)
plt.suptitle('Percent of Population Vaccinated by Country', fontsize=20)
plt.legend(['Fully vaccinated','Atleat one dose'],fontsize=12)

plt.savefig('Images/per_pop_vac.png', bbox_inches='tight', pad_inches=0.2)


con_wise_daily_vac = con_wise_df['daily_vaccinations_avg'].sort_values(ascending=False).head(20)/10**6


con_wise_daily_vac.plot(kind='bar',figsize=(10,6))

plt.xlabel('')
plt.ylabel('Count (in Million)',fontsize=16)
plt.xticks(fontsize=14)
plt.yticks(fontsize=13)
plt.suptitle('Average Daily Vaccination by Country', fontsize=21)

plt.savefig('Images/daily_vac.png', bbox_inches='tight', pad_inches=0.2)


vaccines = pd.read_csv('https://raw.githubusercontent.com/owid/covid-19-data/master/public/data/vaccinations/locations.csv')


vaccines = vaccines.drop(columns={'iso_code','last_observation_date','source_name','source_website'})


vaccines.rename(columns={'location':'country'}, inplace=True)


vaccines


vaccine_data = pd.merge(left=con_wise_df, right=vaccines, left_on='country', right_on='country')


vaccine_data


pop_vac = ['Moderna', 'AstraZeneca','Pfizer','Sputnik','Sinovac', 'John']
con_count = []
for vac in pop_vac :
    filt = vaccine_data['vaccines'].str.contains(vac)
    con_count.append(vaccine_data.loc[filt, 'country'].count())


con_count


plt.pie(con_count, labels=pop_vac)
plt.show()


vaccine_data['vaccines'].unique()





vaccine_data.groupby(['country', 'vaccines']).count().reset_index()[['country', 'vaccines']]\
                  .groupby('vaccines').count()['country'].reset_index().sort_values('country', ascending=False)








##sample code
